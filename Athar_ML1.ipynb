{
  "cells": [
    {
      "cell_type": "markdown",
      "metadata": {
        "id": "view-in-github",
        "colab_type": "text"
      },
      "source": [
        "<a href=\"https://colab.research.google.com/github/jrakhshanda55/Ausaf_ML/blob/main/Athar_ML1.ipynb\" target=\"_parent\"><img src=\"https://colab.research.google.com/assets/colab-badge.svg\" alt=\"Open In Colab\"/></a>"
      ]
    },
    {
      "cell_type": "markdown",
      "source": [
        "# Supervised Machine Learning\n",
        "Supervised machine learning operates as a framework within the broader field of machine learning. In this paradigm, algorithms are trained using input objects and corresponding labeled output values from a designated training dataset. The primary aim of supervised learning is to establish a mapping from inputs to outputs, thereby empowering the algorithm (or machine learning model) to make predictions or decisions upon new, previously unseen data.\n",
        "\n",
        "Machine learning can be broadly categorized intot two main types based on the nature of the output varoable: regression, which deals with predicting numerical values, and classification, which focuses on categorizing data into distinct groups."
      ],
      "metadata": {
        "id": "g9hiM-dLYgXl"
      }
    },
    {
      "cell_type": "markdown",
      "source": [
        "## Classification"
      ],
      "metadata": {
        "id": "oBA46vXUbgLQ"
      }
    },
    {
      "cell_type": "code",
      "source": [],
      "metadata": {
        "id": "FLnVDfj8ZBwf"
      },
      "execution_count": null,
      "outputs": []
    }
  ],
  "metadata": {
    "colab": {
      "name": "Welcome To Colaboratory",
      "provenance": [],
      "include_colab_link": true
    },
    "kernelspec": {
      "display_name": "Python 3",
      "name": "python3"
    }
  },
  "nbformat": 4,
  "nbformat_minor": 0
}