{
  "cells": [
    {
      "cell_type": "markdown",
      "metadata": {
        "id": "view-in-github",
        "colab_type": "text"
      },
      "source": [
        "<a href=\"https://colab.research.google.com/github/jrakhshanda55/Ausaf_ML/blob/main/Making_the_Most_of_your_Colab_Subscription.ipynb\" target=\"_parent\"><img src=\"https://colab.research.google.com/assets/colab-badge.svg\" alt=\"Open In Colab\"/></a>"
      ]
    },
    {
      "cell_type": "code",
      "source": [
        "import pandas as pd\n",
        "import string\n",
        "import re\n",
        "import string\n",
        "from datetime import datetime\n",
        "import matplotlib.pyplot as plt\n",
        "import random\n",
        "import os\n",
        "import numpy as np\n",
        "import warnings\n",
        "warnings.filterwarnings(\"ignore\")\n",
        "pd.set_option('display.max_colwidth', None)"
      ],
      "metadata": {
        "id": "boV6HdiXijhx"
      },
      "execution_count": 1,
      "outputs": []
    },
    {
      "cell_type": "code",
      "source": [
        "#!pip install allennlp"
      ],
      "metadata": {
        "id": "1tWs6Yfq0IAb"
      },
      "execution_count": 2,
      "outputs": []
    },
    {
      "cell_type": "code",
      "source": [
        "from sklearn.model_selection import train_test_split\n",
        "from sklearn.preprocessing import LabelEncoder"
      ],
      "metadata": {
        "id": "FFteI-GVimZt"
      },
      "execution_count": 21,
      "outputs": []
    },
    {
      "cell_type": "code",
      "source": [
        "# from google.colab import drive\n",
        "# drive.mount('/content/drive')"
      ],
      "metadata": {
        "id": "lgxx8AAV1UcL"
      },
      "execution_count": 20,
      "outputs": []
    },
    {
      "cell_type": "markdown",
      "metadata": {
        "id": "SKQ4bH7qMGrA"
      },
      "source": [
        "# Arxiv Data Preprocessing\n",
        "\n"
      ]
    },
    {
      "cell_type": "code",
      "source": [
        "#train = pd.read_csv('/content/train.zip',compression='zip')\n",
        "data = pd.read_csv('/content/val.zip',compression='zip')"
      ],
      "metadata": {
        "id": "l6YWHj37hPQh"
      },
      "execution_count": 6,
      "outputs": []
    },
    {
      "cell_type": "code",
      "source": [
        "df = data.sample(n=15000, random_state=42)"
      ],
      "metadata": {
        "id": "ZQ2l82uDkY4r"
      },
      "execution_count": 41,
      "outputs": []
    },
    {
      "cell_type": "code",
      "source": [
        "df.category.value_counts()"
      ],
      "metadata": {
        "colab": {
          "base_uri": "https://localhost:8080/"
        },
        "id": "YJVpLPy_3Qjc",
        "outputId": "f9c53823-cb51-4f02-c16f-d14c1a5c20df"
      },
      "execution_count": 42,
      "outputs": [
        {
          "output_type": "execute_result",
          "data": {
            "text/plain": [
              "astro-ph    1009\n",
              "hep-ph       952\n",
              "quant-ph     778\n",
              "hep-th       632\n",
              "cs.CV        632\n",
              "            ... \n",
              "q-fin.TR       2\n",
              "cs.NA          2\n",
              "nlin.CG        2\n",
              "q-fin.RM       2\n",
              "cs.GL          2\n",
              "Name: category, Length: 149, dtype: int64"
            ]
          },
          "metadata": {},
          "execution_count": 42
        }
      ]
    },
    {
      "cell_type": "markdown",
      "source": [
        "## Training Context Aware Model"
      ],
      "metadata": {
        "id": "x64eJd2Mz5wz"
      }
    },
    {
      "cell_type": "code",
      "source": [
        "import torch\n",
        "import torch.nn as nn\n",
        "import torch.optim as optim\n",
        "from torch.utils.data import DataLoader, TensorDataset\n",
        "from allennlp.modules.elmo import Elmo, batch_to_ids\n",
        "import numpy as np\n"
      ],
      "metadata": {
        "id": "KuD4K_ENYPVP"
      },
      "execution_count": 34,
      "outputs": []
    },
    {
      "cell_type": "code",
      "source": [
        "#Download the ELMo model\n",
        "\n",
        "#!wget https://allennlp.s3.amazonaws.com/models/elmo/2x4096_512_2048cnn_2xhighway/elmo_2x4096_512_2048cnn_2xhighway_options.json\n",
        "#!wget https://allennlp.s3.amazonaws.com/models/elmo/2x4096_512_2048cnn_2xhighway/elmo_2x4096_512_2048cnn_2xhighway_weights.hdf5"
      ],
      "metadata": {
        "id": "rNjmuRufzcof"
      },
      "execution_count": null,
      "outputs": []
    },
    {
      "cell_type": "code",
      "source": [
        "# Load the ELMo options and weights files\n",
        "options_file = \"/content/elmo_2x4096_512_2048cnn_2xhighway_options.json\"\n",
        "weights_file = \"/content/elmo_2x4096_512_2048cnn_2xhighway_weights.hdf5\""
      ],
      "metadata": {
        "id": "G-yXcTITzcrV"
      },
      "execution_count": 36,
      "outputs": []
    },
    {
      "cell_type": "code",
      "source": [
        "from sklearn.model_selection import train_test_split\n",
        "from sklearn.preprocessing import LabelEncoder\n",
        "\n",
        "# Assuming 'corpus' contains your text data, and 'categories' contains the labels\n",
        "X = df['corpus']\n",
        "y = df['category']\n",
        "\n",
        "# Split the data into training and testing sets\n",
        "X_train, X_test, y_train, y_test = train_test_split(X, y, test_size=0.2, random_state=42,stratify=y)\n",
        "\n",
        "# Encode the category column using LabelEncoder\n",
        "label_encoder = LabelEncoder()\n",
        "y_train_encoded = label_encoder.fit_transform(y_train)\n",
        "y_test_encoded = label_encoder.transform(y_test)\n",
        "\n",
        "# Now, initialize and fine-tune ELMo embeddings (replace options_file and weights_file with your paths)\n",
        "elmo = Elmo(options_file, weights_file, num_output_representations=1, dropout=0)\n",
        "\n",
        "# Tokenize and convert to character IDs\n",
        "X_train_ids = batch_to_ids(X_train)\n",
        "X_test_ids = batch_to_ids(X_test)\n",
        "\n",
        "# Get ELMo embeddings for training data\n",
        "with torch.no_grad():\n",
        "    elmo_train_embeddings = elmo(X_train_ids)[\"elmo_representations\"][0]\n",
        "\n",
        "# Get ELMo embeddings for testing data\n",
        "with torch.no_grad():\n",
        "    elmo_test_embeddings = elmo(X_test_ids)[\"elmo_representations\"][0]"
      ],
      "metadata": {
        "id": "aCYRc2FtzcuJ"
      },
      "execution_count": null,
      "outputs": []
    },
    {
      "cell_type": "code",
      "source": [
        "# Perform your classification using the embeddings and encoded labels\n",
        "# (You can use any classification model, e.g., a neural network or a traditional classifier)\n",
        "\n",
        "# For example, using a simple logistic regression classifier\n",
        "from sklearn.linear_model import LogisticRegression\n",
        "from sklearn.metrics import accuracy_score\n",
        "\n",
        "# Reshape the embeddings for the classifier\n",
        "X_train_features = elmo_train_embeddings.mean(dim=1).numpy()\n",
        "X_test_features = elmo_test_embeddings.mean(dim=1).numpy()\n",
        "\n",
        "# Train a classifier\n",
        "classifier = LogisticRegression(random_state=42)\n",
        "classifier.fit(X_train_features, y_train_encoded)\n",
        "\n",
        "# Make predictions on the test set\n",
        "predictions = classifier.predict(X_test_features)\n",
        "\n",
        "# Evaluate the accuracy\n",
        "accuracy = accuracy_score(y_test_encoded, predictions)\n",
        "print(f\"Accuracy: {accuracy:.4f}\")\n"
      ],
      "metadata": {
        "id": "QUcS36bhdQm8"
      },
      "execution_count": null,
      "outputs": []
    }
  ],
  "metadata": {
    "colab": {
      "name": "Making the Most of your Colab Subscription",
      "provenance": [],
      "machine_shape": "hm",
      "gpuType": "T4",
      "include_colab_link": true
    },
    "kernelspec": {
      "display_name": "Python 3",
      "name": "python3"
    },
    "accelerator": "GPU"
  },
  "nbformat": 4,
  "nbformat_minor": 0
}